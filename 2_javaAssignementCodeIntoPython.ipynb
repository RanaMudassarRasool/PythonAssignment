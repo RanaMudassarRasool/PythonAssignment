{
  "nbformat": 4,
  "nbformat_minor": 0,
  "metadata": {
    "colab": {
      "provenance": [],
      "authorship_tag": "ABX9TyO8l3C9D3ggZuR5bVBIXsEl",
      "include_colab_link": true
    },
    "kernelspec": {
      "name": "python3",
      "display_name": "Python 3"
    },
    "language_info": {
      "name": "python"
    }
  },
  "cells": [
    {
      "cell_type": "markdown",
      "metadata": {
        "id": "view-in-github",
        "colab_type": "text"
      },
      "source": [
        "<a href=\"https://colab.research.google.com/github/ranamaddy/PythonAssignment/blob/main/2_javaAssignementCodeIntoPython.ipynb\" target=\"_parent\"><img src=\"https://colab.research.google.com/assets/colab-badge.svg\" alt=\"Open In Colab\"/></a>"
      ]
    },
    {
      "cell_type": "markdown",
      "source": [
        "A group of MIT friends decide to run the Boston Marathon. Their names and times (in minutes) are below:\n",
        "Name Time (minutes)\n",
        "# Elena 341\n",
        "# Thomas 273\n",
        "# Hamilton 278\n",
        "# Suzie 329\n",
        "# Phil 445\n",
        "# Matt 402\n",
        "# Alex 388\n",
        "# Emma 275\n",
        "# John 243\n",
        "# James 334\n",
        "# Jane 412\n",
        "# Emily 393\n",
        "# Daniel 299\n",
        "# Neda 343\n",
        "# Aaron 317\n",
        "# Kate 265\n",
        "Find the fastest runner. Print the name and his/her time (in minutes).\n",
        "Optional: Find the second fastest runner. Print the name and his/her time (in minutes).\n",
        "Write a method that takes as input an array of integers and returns the index corresponding to the person with the lowest\n",
        "time. Run this method on the array of times. Print out the name and time corresponding to the returned index.\n",
        "Write a second method to find the second-best runner. The second method should use the first method to determine the\n",
        "best runner, and then loop through all values to find the second-best (second lowest) time.\n",
        "Here is a program skeleton to get started:"
      ],
      "metadata": {
        "id": "TWhqLwxFlK58"
      }
    },
    {
      "cell_type": "code",
      "execution_count": 2,
      "metadata": {
        "colab": {
          "base_uri": "https://localhost:8080/"
        },
        "id": "O-i7WWKtlJdH",
        "outputId": "57255962-f185-44d8-9756-f05bf8f62b8f"
      },
      "outputs": [
        {
          "output_type": "stream",
          "name": "stdout",
          "text": [
            "Fastest runner is John with time 243 minutes.\n",
            "Second fastest runner is Kate with time 265 minutes.\n",
            "Person with lowest time is John with time 243 minutes.\n",
            "Second fastest runner is Kate with time 265 minutes.\n"
          ]
        }
      ],
      "source": [
        "class Marathon:\n",
        "    names = [\"Elena\", \"Thomas\", \"Hamilton\", \"Suzie\", \"Phil\", \"Matt\", \"Alex\", \"Emma\", \"John\", \"James\", \"Jane\", \"Emily\", \"Daniel\", \"Neda\", \"Aaron\", \"Kate\"]\n",
        "    times = [341, 273, 278, 329, 445, 402, 388, 275, 243, 334, 412, 393, 299, 343, 317, 265]\n",
        "\n",
        "    def fastest_runner(self):\n",
        "        index = self.times.index(min(self.times))\n",
        "        print(\"Fastest runner is \" + self.names[index] + \" with time \" + str(self.times[index]) + \" minutes.\")\n",
        "\n",
        "    def second_fastest_runner(self):\n",
        "        index = self.times.index(min(self.times))\n",
        "        second_fastest = float('inf')\n",
        "        second_index = -1\n",
        "        for i in range(len(self.times)):\n",
        "            if self.times[i] < second_fastest and i != index:\n",
        "                second_fastest = self.times[i]\n",
        "                second_index = i\n",
        "        print(\"Second fastest runner is \" + self.names[second_index] + \" with time \" + str(self.times[second_index]) + \" minutes.\")\n",
        "\n",
        "    def lowest_time_index(self, arr):\n",
        "        index = arr.index(min(arr))\n",
        "        print(\"Person with lowest time is \" + self.names[index] + \" with time \" + str(arr[index]) + \" minutes.\")\n",
        "        return index\n",
        "\n",
        "    def second_lowest_time(self):\n",
        "        index = self.lowest_time_index(self.times)\n",
        "        second_fastest = float('inf')\n",
        "        second_index = -1\n",
        "        for i in range(len(self.times)):\n",
        "            if self.times[i] < second_fastest and i != index:\n",
        "                second_fastest = self.times[i]\n",
        "                second_index = i\n",
        "        print(\"Second fastest runner is \" + self.names[second_index] + \" with time \" + str(self.times[second_index]) + \" minutes.\")\n",
        "\n",
        "marathon = Marathon()\n",
        "marathon.fastest_runner()\n",
        "marathon.second_fastest_runner()\n",
        "marathon.second_lowest_time()\n"
      ]
    }
  ]
}